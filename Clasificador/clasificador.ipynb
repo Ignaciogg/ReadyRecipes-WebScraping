{
 "cells": [
  {
   "cell_type": "code",
   "execution_count": 2,
   "metadata": {},
   "outputs": [
    {
     "ename": "ModuleNotFoundError",
     "evalue": "No module named 'Bbdd'",
     "output_type": "error",
     "traceback": [
      "\u001b[1;31m---------------------------------------------------------------------------\u001b[0m",
      "\u001b[1;31mModuleNotFoundError\u001b[0m                       Traceback (most recent call last)",
      "Cell \u001b[1;32mIn[2], line 2\u001b[0m\n\u001b[0;32m      1\u001b[0m \u001b[39mfrom\u001b[39;00m \u001b[39mReceta\u001b[39;00m \u001b[39mimport\u001b[39;00m Receta\n\u001b[1;32m----> 2\u001b[0m \u001b[39mfrom\u001b[39;00m \u001b[39mBbdd\u001b[39;00m \u001b[39mimport\u001b[39;00m Bbdd\n\u001b[0;32m      4\u001b[0m bd \u001b[39m=\u001b[39m Bbdd()\n\u001b[0;32m      5\u001b[0m \u001b[39mimport\u001b[39;00m \u001b[39mshutil\u001b[39;00m\n",
      "\u001b[1;31mModuleNotFoundError\u001b[0m: No module named 'Bbdd'"
     ]
    }
   ],
   "source": [
    "from Receta import Receta\n",
    "from Bbdd import Bbdd\n",
    "\n",
    "bd = Bbdd()\n",
    "import shutil\n",
    "import spacy \n",
    "import re\n",
    "import os\n",
    "import pandas as pd\n",
    "import numpy as np\n",
    "from sklearn.model_selection import train_test_split\n",
    "from sklearn.neighbors import KNeighborsClassifier\n",
    "import pickle\n",
    "import warnings\n",
    "warnings.filterwarnings('once')\n",
    "\n",
    "\n",
    "#Variables globales\n",
    "Categorias = [\"Aperitivos\", \"Carne\", \"Pasta\", \"Pescado\", \"Verdura\"]\n",
    "rutaListaParada = \"ListaParada.txt\"\n",
    "rutaDiccionario = \"DiccionarioL.txt\"\n",
    "rutaMatriz = \"MatrizL.txt\""
   ]
  },
  {
   "cell_type": "code",
   "execution_count": null,
   "metadata": {},
   "outputs": [],
   "source": []
  }
 ],
 "metadata": {
  "kernelspec": {
   "display_name": "Python 3",
   "language": "python",
   "name": "python3"
  },
  "language_info": {
   "codemirror_mode": {
    "name": "ipython",
    "version": 3
   },
   "file_extension": ".py",
   "mimetype": "text/x-python",
   "name": "python",
   "nbconvert_exporter": "python",
   "pygments_lexer": "ipython3",
   "version": "3.10.7"
  },
  "orig_nbformat": 4
 },
 "nbformat": 4,
 "nbformat_minor": 2
}
