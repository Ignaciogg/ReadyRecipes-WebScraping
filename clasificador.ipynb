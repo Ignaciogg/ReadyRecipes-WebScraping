{
 "cells": [
  {
   "cell_type": "code",
   "execution_count": 11,
   "metadata": {},
   "outputs": [],
   "source": [
    "from Receta import Receta\n",
    "from Bbdd import Bbdd\n",
    "\n",
    "import shutil\n",
    "import spacy \n",
    "import re\n",
    "import os\n",
    "import pandas as pd\n",
    "import numpy as np\n",
    "from sklearn.model_selection import train_test_split\n",
    "from sklearn.neighbors import KNeighborsClassifier\n",
    "import pickle\n",
    "import warnings\n",
    "warnings.filterwarnings('once')\n",
    "\n",
    "bd = Bbdd()\n",
    "\n",
    "#Variables globales\n",
    "Categorias = [\"Aperitivos\", \"Carne\", \"Pasta\", \"Pescado\", \"Verdura\"]\n",
    "rutaListaParada = \"./Clasificador/ListaParada.txt\"\n",
    "rutaDiccionario = \"./Clasificador/DiccionarioL.txt\"\n",
    "rutaMatriz = \"./Clasificador/MatrizL.txt\""
   ]
  },
  {
   "cell_type": "code",
   "execution_count": 12,
   "metadata": {},
   "outputs": [
    {
     "ename": "TypeError",
     "evalue": "Bbdd.extraerTextoReceta() missing 1 required positional argument: 'receta'",
     "output_type": "error",
     "traceback": [
      "\u001b[1;31m---------------------------------------------------------------------------\u001b[0m",
      "\u001b[1;31mTypeError\u001b[0m                                 Traceback (most recent call last)",
      "Cell \u001b[1;32mIn[12], line 1\u001b[0m\n\u001b[1;32m----> 1\u001b[0m result \u001b[39m=\u001b[39m bd\u001b[39m.\u001b[39;49mextraerTextoReceta()\n\u001b[0;32m      2\u001b[0m \u001b[39mfor\u001b[39;00m texto \u001b[39min\u001b[39;00m result:\n\u001b[0;32m      3\u001b[0m     \u001b[39mprint\u001b[39m(texto[\u001b[39m0\u001b[39m])\n",
      "\u001b[1;31mTypeError\u001b[0m: Bbdd.extraerTextoReceta() missing 1 required positional argument: 'receta'"
     ]
    }
   ],
   "source": [
    "result = bd.extraerTextoReceta()\n",
    "for texto in result:\n",
    "    print(texto[0])"
   ]
  },
  {
   "cell_type": "code",
   "execution_count": null,
   "metadata": {},
   "outputs": [],
   "source": []
  }
 ],
 "metadata": {
  "kernelspec": {
   "display_name": "Python 3",
   "language": "python",
   "name": "python3"
  },
  "language_info": {
   "codemirror_mode": {
    "name": "ipython",
    "version": 3
   },
   "file_extension": ".py",
   "mimetype": "text/x-python",
   "name": "python",
   "nbconvert_exporter": "python",
   "pygments_lexer": "ipython3",
   "version": "3.10.7"
  },
  "orig_nbformat": 4
 },
 "nbformat": 4,
 "nbformat_minor": 2
}
